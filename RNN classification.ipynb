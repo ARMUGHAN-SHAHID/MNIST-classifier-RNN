{
 "cells": [
  {
   "cell_type": "code",
   "execution_count": null,
   "metadata": {},
   "outputs": [],
   "source": [
    "import numpy as np\n",
    "import tensorflow as tf\n",
    "import os\n",
    "from datetime import datetime"
   ]
  },
  {
   "cell_type": "code",
   "execution_count": null,
   "metadata": {},
   "outputs": [],
   "source": [
    "# Load training and eval data\n",
    "mnist = tf.contrib.learn.datasets.load_dataset(\"mnist\")\n",
    "# train_data = mnist.train.images # Returns np.array\n",
    "# train_labels = np.asarray(mnist.train.labels, dtype=np.int32)\n",
    "X_test=mnist.test.images\n",
    "y_test=mnist.test.labels"
   ]
  },
  {
   "cell_type": "code",
   "execution_count": null,
   "metadata": {
    "collapsed": true
   },
   "outputs": [],
   "source": [
    "n_inputs=28\n",
    "# n_neurons=100\n",
    "n_outputs=10\n",
    "# n_rnn_layers=1\n",
    "keep_prob=1\n",
    "n_steps=28\n",
    "n_epochs=100\n",
    "batch_size=150\n",
    "learning_rate=0.001\n",
    "\n",
    "\n",
    "num_layers=2\n",
    "num_neurons=[100,100,400,200]\n",
    "optimizer_fn=tf.train.AdamOptimizer\n",
    "now=datetime.utcnow().strftime(\"%Y%m%d%H%M%S\")\n",
    "root_logdir=\"tf_logs_rnn\"\n",
    "logdir=\"{}/run-{}/\".format(root_logdir,now)\n",
    "savedir='/tmp/my_rnn_model_final.ckpt'\n",
    "\n",
    "\n",
    "# activation_func"
   ]
  },
  {
   "cell_type": "code",
   "execution_count": null,
   "metadata": {
    "collapsed": true
   },
   "outputs": [],
   "source": [
    "def build_RNN_graph():\n",
    "    tf.reset_default_graph()\n",
    "    he_init=tf.contrib.layers.variance_scaling_initializer()\n",
    "    X=tf.placeholder(tf.float32,[None,n_steps,n_inputs])\n",
    "    Y=tf.placeholder(tf.int32,[None])\n",
    "    global_step=tf.Variable(0,trainable=False,name='global_step')\n",
    "    training=tf.placeholder_with_default(False,shape=(),name='training')\n",
    "    \n",
    "    cells=[tf.contrib.rnn.BasicLSTMCell(num_units=num_neurons[i])   for i in range(num_layers)]\n",
    "#     if tf.cond(training):\n",
    "#         cells=[tf.contrib.rnn.DropoutWrapper(cell,input_keep_prob=keep_prob) for cell in cells]\n",
    "        \n",
    "    multi_layer_cell=tf.contrib.rnn.MultiRNNCell(cells)\n",
    "    rnn_outputs,states=tf.nn.dynamic_rnn(multi_layer_cell,X,dtype=tf.float32)\n",
    "\n",
    "    logits=tf.layers.dense(states[-1][-1],n_outputs,kernel_initializer=he_init)\n",
    "    entropies=tf.nn.sparse_softmax_cross_entropy_with_logits(labels=Y,logits=logits)\n",
    "    loss=tf.reduce_mean(entropies)\n",
    "    \n",
    "    optimizer=optimizer_fn(learning_rate=learning_rate)\n",
    "    training_op=optimizer.minimize(loss,global_step=global_step)\n",
    "    correct=tf.nn.in_top_k(logits,Y,1)\n",
    "    accuracy=tf.reduce_mean(tf.cast(correct,tf.float32))\n",
    "\n",
    "    init=tf.global_variables_initializer()\n",
    "    \n",
    "    loss_summary=tf.summary.scalar('loss',loss)\n",
    "    acc_summary=tf.summary.scalar('accuracy',accuracy)\n",
    "    summaries=tf.summary.merge_all()\n",
    "    file_writer=tf.summary.FileWriter(logdir,tf.get_default_graph())\n",
    "    saver=tf.train.Saver()\n",
    "    \n",
    "    return X,Y,init,loss,training_op,accuracy,global_step,summaries,file_writer,saver\n",
    "    \n",
    "    \n",
    "    \n",
    "    "
   ]
  },
  {
   "cell_type": "code",
   "execution_count": null,
   "metadata": {
    "collapsed": true,
    "scrolled": true
   },
   "outputs": [],
   "source": [
    "X_test=X_test.reshape((-1,n_steps,n_inputs))\n",
    "X,Y,init,loss,training_op,accuracy,global_step,summaries,file_writer,saver=build_RNN_graph()\n",
    "with tf.Session()as sess:  \n",
    "    if os.path.isfile(savedir):\n",
    "        saver.restore(sess,savedir)\n",
    "    else:\n",
    "        init.run()\n",
    "    for epoch in range(n_epochs):\n",
    "        for iteration in range(mnist.train.num_examples//batch_size):\n",
    "            step=global_step.eval()\n",
    "            X_batch,y_batch=mnist.train.next_batch(batch_size)\n",
    "            X_batch=X_batch.reshape((-1,n_steps,n_inputs))\n",
    "            \n",
    "            if iteration%10==0:\n",
    "                summary_str=summaries.eval(feed_dict={X:X_test,Y:y_test})\n",
    "                file_writer.add_summary(summary_str,step)\n",
    "                \n",
    "            sess.run(training_op,feed_dict={X:X_batch,Y:y_batch})\n",
    "        acc_train=accuracy.eval(feed_dict={X:X_batch,Y:y_batch})\n",
    "        acc_test=accuracy.eval(feed_dict={X:X_test,Y:y_test})\n",
    "\n",
    "        print(epoch,\"Train accuracy:\",acc_train,\"Test accuracy:\",acc_test)\n",
    "    if (epoch%5)==0:# checkpoint every 5 epochs\n",
    "            save_path=saver.save(sess,savedir)\n",
    "    file_writer.close()"
   ]
  },
  {
   "cell_type": "code",
   "execution_count": null,
   "metadata": {
    "collapsed": true
   },
   "outputs": [],
   "source": [
    "# ! tensorboard --logdir tf_logs_rnn"
   ]
  }
 ],
 "metadata": {
  "kernelspec": {
   "display_name": "Python [conda env:py3]",
   "language": "python",
   "name": "conda-env-py3-py"
  },
  "language_info": {
   "codemirror_mode": {
    "name": "ipython",
    "version": 3
   },
   "file_extension": ".py",
   "mimetype": "text/x-python",
   "name": "python",
   "nbconvert_exporter": "python",
   "pygments_lexer": "ipython3",
   "version": "3.6.4"
  }
 },
 "nbformat": 4,
 "nbformat_minor": 2
}
